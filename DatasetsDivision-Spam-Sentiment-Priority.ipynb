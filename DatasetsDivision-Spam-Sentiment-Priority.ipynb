{
 "cells": [
  {
   "cell_type": "markdown",
   "id": "212891bf",
   "metadata": {},
   "source": [
    "# Loading the cleaned dataset"
   ]
  },
  {
   "cell_type": "code",
   "execution_count": 1,
   "id": "9cc1c7b1",
   "metadata": {},
   "outputs": [
    {
     "data": {
      "text/html": [
       "<div>\n",
       "<style scoped>\n",
       "    .dataframe tbody tr th:only-of-type {\n",
       "        vertical-align: middle;\n",
       "    }\n",
       "\n",
       "    .dataframe tbody tr th {\n",
       "        vertical-align: top;\n",
       "    }\n",
       "\n",
       "    .dataframe thead th {\n",
       "        text-align: right;\n",
       "    }\n",
       "</style>\n",
       "<table border=\"1\" class=\"dataframe\">\n",
       "  <thead>\n",
       "    <tr style=\"text-align: right;\">\n",
       "      <th></th>\n",
       "      <th>From</th>\n",
       "      <th>Subject</th>\n",
       "      <th>Date</th>\n",
       "      <th>Body</th>\n",
       "    </tr>\n",
       "  </thead>\n",
       "  <tbody>\n",
       "    <tr>\n",
       "      <th>0</th>\n",
       "      <td>Kohls@s.kohls.com</td>\n",
       "      <td>Save the date! Get up to 50% off beauty faves ...</td>\n",
       "      <td>2024-11-21 10:44:52-06:00</td>\n",
       "      <td>plus stressfree holiday flawless gift set ͏ ͏ ...</td>\n",
       "    </tr>\n",
       "    <tr>\n",
       "      <th>1</th>\n",
       "      <td>noreply@content.goibibo.com</td>\n",
       "      <td>Bus cancelled = 2x refund!</td>\n",
       "      <td>2024-11-21 19:21:03+05:30</td>\n",
       "      <td>goibibo here’s claim offer follow u download g...</td>\n",
       "    </tr>\n",
       "    <tr>\n",
       "      <th>2</th>\n",
       "      <td>Kohls@s.kohls.com</td>\n",
       "      <td>Plot twist: Get Black Friday Deals TODAY 🤯 Plu...</td>\n",
       "      <td>2024-11-21 04:11:35-06:00</td>\n",
       "      <td>save 85 clearance mark calendar sephora cyber ...</td>\n",
       "    </tr>\n",
       "    <tr>\n",
       "      <th>3</th>\n",
       "      <td>info@members.netflix.com</td>\n",
       "      <td>🔔 Reminder: A Man on the Inside is now on Netflix</td>\n",
       "      <td>2024-11-21 09:56:10+00:00</td>\n",
       "      <td>here reminder start watching rish man inside 2...</td>\n",
       "    </tr>\n",
       "    <tr>\n",
       "      <th>4</th>\n",
       "      <td>googlecloud@google.com</td>\n",
       "      <td>Launch and learn with interactive, prebuilt so...</td>\n",
       "      <td>2024-11-21 01:43:02-08:00</td>\n",
       "      <td>google cloud­ deploy prebuilt google cloud sol...</td>\n",
       "    </tr>\n",
       "    <tr>\n",
       "      <th>5</th>\n",
       "      <td>mailers@marketing.goindigo.in</td>\n",
       "      <td>We're celebrating Ethics Week with you</td>\n",
       "      <td>2024-11-21 14:57:48+05:30</td>\n",
       "      <td>share thought feedback honour commitment view ...</td>\n",
       "    </tr>\n",
       "    <tr>\n",
       "      <th>6</th>\n",
       "      <td>CaratLane@mailer.caratlane.com</td>\n",
       "      <td>📈 Trending this week: NEW RINGS</td>\n",
       "      <td>2024-11-21 09:04:48+00:00</td>\n",
       "      <td>0</td>\n",
       "    </tr>\n",
       "    <tr>\n",
       "      <th>7</th>\n",
       "      <td>noreply@miraeassetmf.co.in</td>\n",
       "      <td>🚀 Launching: Mirae Asset Long Duration Fund</td>\n",
       "      <td>2024-11-21 09:32:18+05:30</td>\n",
       "      <td>click unsubscribe newsletter</td>\n",
       "    </tr>\n",
       "    <tr>\n",
       "      <th>8</th>\n",
       "      <td>email@market.temuemail.com</td>\n",
       "      <td>Your Purchase, Our Thanks!</td>\n",
       "      <td>2024-11-21 04:11:54+00:00</td>\n",
       "      <td>temu properly view full message content please...</td>\n",
       "    </tr>\n",
       "    <tr>\n",
       "      <th>9</th>\n",
       "      <td>noreply@medium.com</td>\n",
       "      <td>A Founder Who Just Raised a $3 Million Seed Ro...</td>\n",
       "      <td>2024-11-21 01:50:00+00:00</td>\n",
       "      <td>story rishitha pusapati pusapatirishitha98 ·be...</td>\n",
       "    </tr>\n",
       "  </tbody>\n",
       "</table>\n",
       "</div>"
      ],
      "text/plain": [
       "                             From  \\\n",
       "0               Kohls@s.kohls.com   \n",
       "1     noreply@content.goibibo.com   \n",
       "2               Kohls@s.kohls.com   \n",
       "3        info@members.netflix.com   \n",
       "4          googlecloud@google.com   \n",
       "5   mailers@marketing.goindigo.in   \n",
       "6  CaratLane@mailer.caratlane.com   \n",
       "7      noreply@miraeassetmf.co.in   \n",
       "8      email@market.temuemail.com   \n",
       "9              noreply@medium.com   \n",
       "\n",
       "                                             Subject  \\\n",
       "0  Save the date! Get up to 50% off beauty faves ...   \n",
       "1                         Bus cancelled = 2x refund!   \n",
       "2  Plot twist: Get Black Friday Deals TODAY 🤯 Plu...   \n",
       "3  🔔 Reminder: A Man on the Inside is now on Netflix   \n",
       "4  Launch and learn with interactive, prebuilt so...   \n",
       "5             We're celebrating Ethics Week with you   \n",
       "6                    📈 Trending this week: NEW RINGS   \n",
       "7        🚀 Launching: Mirae Asset Long Duration Fund   \n",
       "8                         Your Purchase, Our Thanks!   \n",
       "9  A Founder Who Just Raised a $3 Million Seed Ro...   \n",
       "\n",
       "                        Date  \\\n",
       "0  2024-11-21 10:44:52-06:00   \n",
       "1  2024-11-21 19:21:03+05:30   \n",
       "2  2024-11-21 04:11:35-06:00   \n",
       "3  2024-11-21 09:56:10+00:00   \n",
       "4  2024-11-21 01:43:02-08:00   \n",
       "5  2024-11-21 14:57:48+05:30   \n",
       "6  2024-11-21 09:04:48+00:00   \n",
       "7  2024-11-21 09:32:18+05:30   \n",
       "8  2024-11-21 04:11:54+00:00   \n",
       "9  2024-11-21 01:50:00+00:00   \n",
       "\n",
       "                                                Body  \n",
       "0  plus stressfree holiday flawless gift set ͏ ͏ ...  \n",
       "1  goibibo here’s claim offer follow u download g...  \n",
       "2  save 85 clearance mark calendar sephora cyber ...  \n",
       "3  here reminder start watching rish man inside 2...  \n",
       "4  google cloud­ deploy prebuilt google cloud sol...  \n",
       "5  share thought feedback honour commitment view ...  \n",
       "6                                                  0  \n",
       "7                       click unsubscribe newsletter  \n",
       "8  temu properly view full message content please...  \n",
       "9  story rishitha pusapati pusapatirishitha98 ·be...  "
      ]
     },
     "execution_count": 1,
     "metadata": {},
     "output_type": "execute_result"
    }
   ],
   "source": [
    "import pandas as pd\n",
    "\n",
    "# Load the cleaned dataset\n",
    "cleaned_emails_df = pd.read_csv('cleaned_emails.csv')\n",
    "cleaned_emails_df.head(10)\n"
   ]
  },
  {
   "cell_type": "code",
   "execution_count": 2,
   "id": "4aca3adf",
   "metadata": {},
   "outputs": [
    {
     "data": {
      "text/plain": [
       "16469"
      ]
     },
     "execution_count": 2,
     "metadata": {},
     "output_type": "execute_result"
    }
   ],
   "source": [
    "cleaned_emails_df.shape[0]"
   ]
  },
  {
   "cell_type": "markdown",
   "id": "2e6c85b0",
   "metadata": {},
   "source": [
    "# 1.Spam Detection"
   ]
  },
  {
   "cell_type": "code",
   "execution_count": 3,
   "id": "c4119eb8",
   "metadata": {},
   "outputs": [
    {
     "name": "stdout",
     "output_type": "stream",
     "text": [
      "                                                Body Category\n",
      "0  plus stressfree holiday flawless gift set ͏ ͏ ...     spam\n",
      "1  goibibo here’s claim offer follow u download g...     spam\n",
      "2  save 85 clearance mark calendar sephora cyber ...     spam\n",
      "3  here reminder start watching rish man inside 2...      ham\n",
      "4  google cloud­ deploy prebuilt google cloud sol...      ham\n",
      "5  share thought feedback honour commitment view ...      ham\n",
      "6                                                  0      ham\n",
      "7                       click unsubscribe newsletter      ham\n",
      "8  temu properly view full message content please...     spam\n",
      "9  story rishitha pusapati pusapatirishitha98 ·be...     spam\n",
      "Spam-labeled dataset with selected columns saved as 'spam_labeled_emails.csv'\n"
     ]
    }
   ],
   "source": [
    "import pandas as pd\n",
    "\n",
    "# Load the cleaned dataset\n",
    "cleaned_emails_df = pd.read_csv('cleaned_emails.csv')\n",
    "\n",
    "# Ensure all entries in 'Body' are strings (handling any possible type inconsistencies)\n",
    "cleaned_emails_df['Body'] = cleaned_emails_df['Body'].astype(str)\n",
    "\n",
    "# Define a function to detect spam based on multiple spam keywords\n",
    "def detect_spam(email_body):\n",
    "    spam_keywords = ['win', 'free', 'offer', 'urgent', 'buy now', 'discount', 'claim', 'prize', 'cash', 'money']  # Add more keywords if needed\n",
    "    spam_count = sum(word in email_body for word in spam_keywords)\n",
    "    return 'spam' if spam_count > 1 else 'ham'\n",
    "\n",
    "# Apply the updated function to classify emails\n",
    "cleaned_emails_df['Category'] = cleaned_emails_df['Body'].apply(detect_spam)\n",
    "\n",
    "# Select only the required columns\n",
    "spam_labeled_emails_df = cleaned_emails_df[['Body', 'Category']]\n",
    "\n",
    "# Save the new dataset with spam labels as a separate file\n",
    "spam_labeled_emails_df.to_csv('spam_labeled_emails.csv', index=False)\n",
    "\n",
    "# Preview the first 10 rows of the labeled dataset\n",
    "print(spam_labeled_emails_df.head(10))\n",
    "print(\"Spam-labeled dataset with selected columns saved as 'spam_labeled_emails.csv'\")\n"
   ]
  },
  {
   "cell_type": "code",
   "execution_count": 4,
   "id": "53782d6f",
   "metadata": {},
   "outputs": [],
   "source": [
    "# Import pandas to read and display the CSV file\n",
    "import pandas as pd\n",
    "\n",
    "# Load the spam-labeled emails CSV\n",
    "spam_labeled_df = pd.read_csv('spam_labeled_emails.csv')\n",
    "\n",
    "\n",
    "\n"
   ]
  },
  {
   "cell_type": "code",
   "execution_count": 5,
   "id": "2e3040da",
   "metadata": {},
   "outputs": [
    {
     "data": {
      "text/plain": [
       "16469"
      ]
     },
     "execution_count": 5,
     "metadata": {},
     "output_type": "execute_result"
    }
   ],
   "source": [
    "spam_labeled_df.shape[0]"
   ]
  },
  {
   "cell_type": "code",
   "execution_count": 6,
   "id": "447da645",
   "metadata": {},
   "outputs": [
    {
     "data": {
      "text/html": [
       "<div>\n",
       "<style scoped>\n",
       "    .dataframe tbody tr th:only-of-type {\n",
       "        vertical-align: middle;\n",
       "    }\n",
       "\n",
       "    .dataframe tbody tr th {\n",
       "        vertical-align: top;\n",
       "    }\n",
       "\n",
       "    .dataframe thead th {\n",
       "        text-align: right;\n",
       "    }\n",
       "</style>\n",
       "<table border=\"1\" class=\"dataframe\">\n",
       "  <thead>\n",
       "    <tr style=\"text-align: right;\">\n",
       "      <th></th>\n",
       "      <th>Body</th>\n",
       "      <th>Category</th>\n",
       "    </tr>\n",
       "  </thead>\n",
       "  <tbody>\n",
       "    <tr>\n",
       "      <th>0</th>\n",
       "      <td>plus stressfree holiday flawless gift set ͏ ͏ ...</td>\n",
       "      <td>spam</td>\n",
       "    </tr>\n",
       "    <tr>\n",
       "      <th>1</th>\n",
       "      <td>goibibo here’s claim offer follow u download g...</td>\n",
       "      <td>spam</td>\n",
       "    </tr>\n",
       "    <tr>\n",
       "      <th>2</th>\n",
       "      <td>save 85 clearance mark calendar sephora cyber ...</td>\n",
       "      <td>spam</td>\n",
       "    </tr>\n",
       "    <tr>\n",
       "      <th>3</th>\n",
       "      <td>here reminder start watching rish man inside 2...</td>\n",
       "      <td>ham</td>\n",
       "    </tr>\n",
       "    <tr>\n",
       "      <th>4</th>\n",
       "      <td>google cloud­ deploy prebuilt google cloud sol...</td>\n",
       "      <td>ham</td>\n",
       "    </tr>\n",
       "    <tr>\n",
       "      <th>5</th>\n",
       "      <td>share thought feedback honour commitment view ...</td>\n",
       "      <td>ham</td>\n",
       "    </tr>\n",
       "    <tr>\n",
       "      <th>6</th>\n",
       "      <td>0</td>\n",
       "      <td>ham</td>\n",
       "    </tr>\n",
       "    <tr>\n",
       "      <th>7</th>\n",
       "      <td>click unsubscribe newsletter</td>\n",
       "      <td>ham</td>\n",
       "    </tr>\n",
       "    <tr>\n",
       "      <th>8</th>\n",
       "      <td>temu properly view full message content please...</td>\n",
       "      <td>spam</td>\n",
       "    </tr>\n",
       "    <tr>\n",
       "      <th>9</th>\n",
       "      <td>story rishitha pusapati pusapatirishitha98 ·be...</td>\n",
       "      <td>spam</td>\n",
       "    </tr>\n",
       "  </tbody>\n",
       "</table>\n",
       "</div>"
      ],
      "text/plain": [
       "                                                Body Category\n",
       "0  plus stressfree holiday flawless gift set ͏ ͏ ...     spam\n",
       "1  goibibo here’s claim offer follow u download g...     spam\n",
       "2  save 85 clearance mark calendar sephora cyber ...     spam\n",
       "3  here reminder start watching rish man inside 2...      ham\n",
       "4  google cloud­ deploy prebuilt google cloud sol...      ham\n",
       "5  share thought feedback honour commitment view ...      ham\n",
       "6                                                  0      ham\n",
       "7                       click unsubscribe newsletter      ham\n",
       "8  temu properly view full message content please...     spam\n",
       "9  story rishitha pusapati pusapatirishitha98 ·be...     spam"
      ]
     },
     "execution_count": 6,
     "metadata": {},
     "output_type": "execute_result"
    }
   ],
   "source": [
    "# Display the top 10 rows as a table\n",
    "spam_labeled_df.head(10)"
   ]
  },
  {
   "cell_type": "code",
   "execution_count": 8,
   "id": "688d8164",
   "metadata": {},
   "outputs": [],
   "source": [
    "# Filter the dataset to get only the 'ham' emails\n",
    "ham_emails_df = spam_labeled_df[spam_labeled_df['Category'] == 'ham']\n"
   ]
  },
  {
   "cell_type": "code",
   "execution_count": 9,
   "id": "c12b4788",
   "metadata": {},
   "outputs": [
    {
     "data": {
      "text/plain": [
       "12408"
      ]
     },
     "execution_count": 9,
     "metadata": {},
     "output_type": "execute_result"
    }
   ],
   "source": [
    "ham_emails_df.shape[0]"
   ]
  },
  {
   "cell_type": "code",
   "execution_count": 10,
   "id": "17e2db3d",
   "metadata": {},
   "outputs": [],
   "source": [
    "# Filter the dataset to get only the 'spam' emails\n",
    "spam_emails_df = spam_labeled_df[spam_labeled_df['Category'] == 'spam']"
   ]
  },
  {
   "cell_type": "code",
   "execution_count": 11,
   "id": "b3e06b68",
   "metadata": {},
   "outputs": [
    {
     "data": {
      "text/plain": [
       "4061"
      ]
     },
     "execution_count": 11,
     "metadata": {},
     "output_type": "execute_result"
    }
   ],
   "source": [
    "spam_emails_df.shape[0]"
   ]
  },
  {
   "cell_type": "code",
   "execution_count": 12,
   "id": "621b41c5",
   "metadata": {},
   "outputs": [
    {
     "data": {
      "text/html": [
       "<div>\n",
       "<style scoped>\n",
       "    .dataframe tbody tr th:only-of-type {\n",
       "        vertical-align: middle;\n",
       "    }\n",
       "\n",
       "    .dataframe tbody tr th {\n",
       "        vertical-align: top;\n",
       "    }\n",
       "\n",
       "    .dataframe thead th {\n",
       "        text-align: right;\n",
       "    }\n",
       "</style>\n",
       "<table border=\"1\" class=\"dataframe\">\n",
       "  <thead>\n",
       "    <tr style=\"text-align: right;\">\n",
       "      <th></th>\n",
       "      <th>Body</th>\n",
       "      <th>Category</th>\n",
       "    </tr>\n",
       "  </thead>\n",
       "  <tbody>\n",
       "    <tr>\n",
       "      <th>3</th>\n",
       "      <td>here reminder start watching rish man inside 2...</td>\n",
       "      <td>ham</td>\n",
       "    </tr>\n",
       "    <tr>\n",
       "      <th>4</th>\n",
       "      <td>google cloud­ deploy prebuilt google cloud sol...</td>\n",
       "      <td>ham</td>\n",
       "    </tr>\n",
       "    <tr>\n",
       "      <th>5</th>\n",
       "      <td>share thought feedback honour commitment view ...</td>\n",
       "      <td>ham</td>\n",
       "    </tr>\n",
       "    <tr>\n",
       "      <th>6</th>\n",
       "      <td>0</td>\n",
       "      <td>ham</td>\n",
       "    </tr>\n",
       "    <tr>\n",
       "      <th>7</th>\n",
       "      <td>click unsubscribe newsletter</td>\n",
       "      <td>ham</td>\n",
       "    </tr>\n",
       "    <tr>\n",
       "      <th>10</th>\n",
       "      <td>image google new signin window pusapatirishith...</td>\n",
       "      <td>ham</td>\n",
       "    </tr>\n",
       "    <tr>\n",
       "      <th>12</th>\n",
       "      <td>wait 🎉 wishlist item back ready shine 🥳 ‌​‍‎‏﻿...</td>\n",
       "      <td>ham</td>\n",
       "    </tr>\n",
       "    <tr>\n",
       "      <th>13</th>\n",
       "      <td>gift guide part 2 ‌ ‌ ‌ ‌ ‌ ‌ ‌ ‌ ‌ ‌ ‌ ‌ ‌ ‌ ...</td>\n",
       "      <td>ham</td>\n",
       "    </tr>\n",
       "    <tr>\n",
       "      <th>14</th>\n",
       "      <td>cyclebar burbank 3820 w verdugo ave aburbank c...</td>\n",
       "      <td>ham</td>\n",
       "    </tr>\n",
       "    <tr>\n",
       "      <th>16</th>\n",
       "      <td>tap know time takeitlite follow u download goi...</td>\n",
       "      <td>ham</td>\n",
       "    </tr>\n",
       "  </tbody>\n",
       "</table>\n",
       "</div>"
      ],
      "text/plain": [
       "                                                 Body Category\n",
       "3   here reminder start watching rish man inside 2...      ham\n",
       "4   google cloud­ deploy prebuilt google cloud sol...      ham\n",
       "5   share thought feedback honour commitment view ...      ham\n",
       "6                                                   0      ham\n",
       "7                        click unsubscribe newsletter      ham\n",
       "10  image google new signin window pusapatirishith...      ham\n",
       "12  wait 🎉 wishlist item back ready shine 🥳 ‌​‍‎‏﻿...      ham\n",
       "13  gift guide part 2 ‌ ‌ ‌ ‌ ‌ ‌ ‌ ‌ ‌ ‌ ‌ ‌ ‌ ‌ ...      ham\n",
       "14  cyclebar burbank 3820 w verdugo ave aburbank c...      ham\n",
       "16  tap know time takeitlite follow u download goi...      ham"
      ]
     },
     "execution_count": 12,
     "metadata": {},
     "output_type": "execute_result"
    }
   ],
   "source": [
    "\n",
    "# Display the first 20 ham emails\n",
    "ham_emails_df.head(10)"
   ]
  },
  {
   "cell_type": "code",
   "execution_count": 13,
   "id": "c6b190ea",
   "metadata": {},
   "outputs": [
    {
     "data": {
      "text/html": [
       "<div>\n",
       "<style scoped>\n",
       "    .dataframe tbody tr th:only-of-type {\n",
       "        vertical-align: middle;\n",
       "    }\n",
       "\n",
       "    .dataframe tbody tr th {\n",
       "        vertical-align: top;\n",
       "    }\n",
       "\n",
       "    .dataframe thead th {\n",
       "        text-align: right;\n",
       "    }\n",
       "</style>\n",
       "<table border=\"1\" class=\"dataframe\">\n",
       "  <thead>\n",
       "    <tr style=\"text-align: right;\">\n",
       "      <th></th>\n",
       "      <th>Body</th>\n",
       "      <th>Category</th>\n",
       "    </tr>\n",
       "  </thead>\n",
       "  <tbody>\n",
       "    <tr>\n",
       "      <th>0</th>\n",
       "      <td>plus stressfree holiday flawless gift set ͏ ͏ ...</td>\n",
       "      <td>spam</td>\n",
       "    </tr>\n",
       "    <tr>\n",
       "      <th>1</th>\n",
       "      <td>goibibo here’s claim offer follow u download g...</td>\n",
       "      <td>spam</td>\n",
       "    </tr>\n",
       "    <tr>\n",
       "      <th>2</th>\n",
       "      <td>save 85 clearance mark calendar sephora cyber ...</td>\n",
       "      <td>spam</td>\n",
       "    </tr>\n",
       "    <tr>\n",
       "      <th>8</th>\n",
       "      <td>temu properly view full message content please...</td>\n",
       "      <td>spam</td>\n",
       "    </tr>\n",
       "    <tr>\n",
       "      <th>9</th>\n",
       "      <td>story rishitha pusapati pusapatirishitha98 ·be...</td>\n",
       "      <td>spam</td>\n",
       "    </tr>\n",
       "    <tr>\n",
       "      <th>11</th>\n",
       "      <td>padma rishitha lifemiles number 00854153510 st...</td>\n",
       "      <td>spam</td>\n",
       "    </tr>\n",
       "    <tr>\n",
       "      <th>15</th>\n",
       "      <td>plus save 10 spice rest space ͏ ͏ ͏ ͏ ͏ ͏ ͏ ͏ ...</td>\n",
       "      <td>spam</td>\n",
       "    </tr>\n",
       "    <tr>\n",
       "      <th>20</th>\n",
       "      <td>grandma attic abundance tap shop winter 24 ‌ ‌...</td>\n",
       "      <td>spam</td>\n",
       "    </tr>\n",
       "    <tr>\n",
       "      <th>21</th>\n",
       "      <td>story rishitha pusapati pusapatirishitha98 ·be...</td>\n",
       "      <td>spam</td>\n",
       "    </tr>\n",
       "    <tr>\n",
       "      <th>23</th>\n",
       "      <td>tuition use fast simple solution send money in...</td>\n",
       "      <td>spam</td>\n",
       "    </tr>\n",
       "  </tbody>\n",
       "</table>\n",
       "</div>"
      ],
      "text/plain": [
       "                                                 Body Category\n",
       "0   plus stressfree holiday flawless gift set ͏ ͏ ...     spam\n",
       "1   goibibo here’s claim offer follow u download g...     spam\n",
       "2   save 85 clearance mark calendar sephora cyber ...     spam\n",
       "8   temu properly view full message content please...     spam\n",
       "9   story rishitha pusapati pusapatirishitha98 ·be...     spam\n",
       "11  padma rishitha lifemiles number 00854153510 st...     spam\n",
       "15  plus save 10 spice rest space ͏ ͏ ͏ ͏ ͏ ͏ ͏ ͏ ...     spam\n",
       "20  grandma attic abundance tap shop winter 24 ‌ ‌...     spam\n",
       "21  story rishitha pusapati pusapatirishitha98 ·be...     spam\n",
       "23  tuition use fast simple solution send money in...     spam"
      ]
     },
     "execution_count": 13,
     "metadata": {},
     "output_type": "execute_result"
    }
   ],
   "source": [
    "# Display the first 20 spam emails\n",
    "spam_emails_df.head(10)"
   ]
  },
  {
   "cell_type": "code",
   "execution_count": 14,
   "id": "361c740a",
   "metadata": {},
   "outputs": [
    {
     "data": {
      "image/png": "[encoded data removed]",
      "text/plain": [
       "<Figure size 640x480 with 1 Axes>"
      ]
     },
     "metadata": {},
     "output_type": "display_data"
    }
   ],
   "source": [
    "import matplotlib.pyplot as plt\n",
    "\n",
    "labels = ['Spam', 'Ham']\n",
    "counts = [spam_emails_df.shape[0], ham_emails_df.shape[0]]\n",
    "\n",
    "plt.pie(counts, labels=labels, autopct='%1.1f%%', startangle=140)\n",
    "plt.title('Spam vs. Ham Emails')\n",
    "plt.show()\n"
   ]
  },
  {
   "cell_type": "markdown",
   "id": "576b58e4",
   "metadata": {},
   "source": [
    "# 2. Sentiment Analysis"
   ]
  },
  {
   "cell_type": "code",
   "execution_count": 15,
   "id": "59aca771",
   "metadata": {},
   "outputs": [
    {
     "name": "stderr",
     "output_type": "stream",
     "text": [
      "C:\\Users\\rajuk\\anaconda3\\lib\\site-packages\\scipy\\__init__.py:146: UserWarning: A NumPy version >=1.16.5 and <1.23.0 is required for this version of SciPy (detected version 1.24.4\n",
      "  warnings.warn(f\"A NumPy version >={np_minversion} and <{np_maxversion}\"\n",
      "[nltk_data] Downloading package vader_lexicon to\n",
      "[nltk_data]     C:\\Users\\rajuk\\AppData\\Roaming\\nltk_data...\n",
      "[nltk_data]   Package vader_lexicon is already up-to-date!\n",
      "[nltk_data] Downloading package stopwords to\n",
      "[nltk_data]     C:\\Users\\rajuk\\AppData\\Roaming\\nltk_data...\n",
      "[nltk_data]   Package stopwords is already up-to-date!\n"
     ]
    },
    {
     "name": "stdout",
     "output_type": "stream",
     "text": [
      "                                                Body category\n",
      "0  plus stressfree holiday flawless gift set ͏ ͏ ...        1\n",
      "1  goibibo here’s claim offer follow u download g...        0\n",
      "2  save  clearance mark calendar sephora cyber we...        1\n",
      "3  here reminder start watcng rish man inside  ua...        1\n",
      "4  google cloud­ deploy prebuilt google cloud sol...        1\n",
      "5  share thought feedback honour commitment view ...        0\n",
      "6                                                           0\n",
      "7                       click unsubscribe newsletter        0\n",
      "8  temu properly view full message content please...        1\n",
      "9  story ristha pusapati pusapatiristha ·become m...        1\n",
      "Sentiment-labeled dataset with selected columns saved as 'sentiment_labeled_emails.csv'\n"
     ]
    }
   ],
   "source": [
    "import pandas as pd\n",
    "import re\n",
    "import nltk\n",
    "from nltk.sentiment import SentimentIntensityAnalyzer\n",
    "from nltk.corpus import stopwords\n",
    "from textblob import TextBlob\n",
    "\n",
    "# Download necessary NLTK resources\n",
    "nltk.download('vader_lexicon')\n",
    "nltk.download('stopwords')\n",
    "\n",
    "# Initialize VADER Sentiment Intensity Analyzer\n",
    "sia = SentimentIntensityAnalyzer()\n",
    "\n",
    "# List of Gmail-specific terms and phrases to remove\n",
    "neutral_terms = [\n",
    "    \"thank you\", \"thanks\", \"best regards\", \"regards\", \"kind regards\", \"sincerely\",\"yours sincerely\",\n",
    "    \"warm regards\", \"forwarded message\", \"re:\", \"fwd:\", \"subject:\", \"hi\", \"hello\", \"please find attached\",\n",
    "    \"looking forward\", \"dear\",\"for your reference\",\n",
    "]\n",
    "\n",
    "# Preprocess text: lowercase, remove punctuation, numbers, stopwords, and neutral terms\n",
    "def preprocess_text(text):\n",
    "    text = re.sub(r'\\d+', '', text)  # Remove numbers\n",
    "    # Remove domain-specific neutral terms\n",
    "    for term in neutral_terms:\n",
    "        text = text.replace(term, \"\")\n",
    "    return text\n",
    "\n",
    "# Apply preprocessing to the 'Body' column\n",
    "cleaned_emails_df['Body'] = cleaned_emails_df['Body'].apply(preprocess_text)\n",
    "\n",
    "# Define sentiment analysis function using VADER\n",
    "def get_sentiment_vader(email_body, positive_threshold=0.3, negative_threshold=-0.3):\n",
    "    score = sia.polarity_scores(email_body)['compound']\n",
    "    if score > positive_threshold:\n",
    "        return '1'\n",
    "    elif score < negative_threshold:\n",
    "        return '-1'\n",
    "    else:\n",
    "        return '0'\n",
    "\n",
    "# Alternative: Sentiment analysis using TextBlob\n",
    "def get_sentiment_textblob(email_body, positive_threshold=0.1, negative_threshold=-0.1):\n",
    "    polarity = TextBlob(email_body).sentiment.polarity\n",
    "    if polarity > positive_threshold:\n",
    "        return '1'\n",
    "    elif polarity < negative_threshold:\n",
    "        return '-1'\n",
    "    else:\n",
    "        return '0'\n",
    "\n",
    "# Choose sentiment analysis method (VADER or TextBlob)\n",
    "use_vader = False  # Set to False if you want to use TextBlob\n",
    "\n",
    "if use_vader:\n",
    "    cleaned_emails_df['category'] = cleaned_emails_df['Body'].apply(\n",
    "        lambda x: get_sentiment_vader(x, positive_threshold=0.3, negative_threshold=-0.3)\n",
    "    )\n",
    "else:\n",
    "    cleaned_emails_df['category'] = cleaned_emails_df['Body'].apply(\n",
    "        lambda x: get_sentiment_textblob(x, positive_threshold=0.1, negative_threshold=-0.)\n",
    "    )\n",
    "\n",
    "# Create a new DataFrame with the necessary columns\n",
    "sentiment_emails_df = cleaned_emails_df[['Body', 'category']]\n",
    "\n",
    "# Save the sentiment-labeled emails as a separate file\n",
    "sentiment_emails_df.to_csv('sentiment_labeled_emails.csv', index=False)\n",
    "\n",
    "# Preview the first 10 rows of the sentiment-labeled dataset\n",
    "print(sentiment_emails_df.head(10))\n",
    "print(\"Sentiment-labeled dataset with selected columns saved as 'sentiment_labeled_emails.csv'\")\n"
   ]
  },
  {
   "cell_type": "code",
   "execution_count": 16,
   "id": "a77839e1",
   "metadata": {},
   "outputs": [
    {
     "data": {
      "image/png": "[encoded data removed]",
      "text/plain": [
       "<Figure size 800x600 with 1 Axes>"
      ]
     },
     "metadata": {},
     "output_type": "display_data"
    },
    {
     "data": {
      "image/png": "[encoded data removed]",
      "text/plain": [
       "<Figure size 700x700 with 1 Axes>"
      ]
     },
     "metadata": {},
     "output_type": "display_data"
    }
   ],
   "source": [
    "import matplotlib.pyplot as plt\n",
    "import seaborn as sns\n",
    "\n",
    "# Count the occurrences of each sentiment category\n",
    "sentiment_counts = sentiment_emails_df['category'].value_counts()\n",
    "\n",
    "# Bar Plot\n",
    "plt.figure(figsize=(8,6))\n",
    "sns.barplot(x=sentiment_counts.index, y=sentiment_counts.values, palette='viridis')\n",
    "plt.title('Sentiment Distribution (Bar Chart)', fontsize=16)\n",
    "plt.xlabel('Sentiment', fontsize=14)\n",
    "plt.ylabel('Count', fontsize=14)\n",
    "plt.show()\n",
    "\n",
    "# Pie Chart\n",
    "plt.figure(figsize=(7,7))\n",
    "sentiment_counts.plot.pie(autopct='%1.1f%%', startangle=90, cmap='Pastel1', figsize=(7,7))\n",
    "plt.title('Sentiment Distribution (Pie Chart)', fontsize=16)\n",
    "plt.ylabel('')  # Remove the y-axis label for pie chart\n",
    "plt.show()\n"
   ]
  },
  {
   "cell_type": "code",
   "execution_count": 18,
   "id": "ca3f7991",
   "metadata": {
    "scrolled": true
   },
   "outputs": [
    {
     "name": "stdout",
     "output_type": "stream",
     "text": [
      "Top 5 Neutral Emails:\n"
     ]
    },
    {
     "data": {
      "text/html": [
       "<div>\n",
       "<style scoped>\n",
       "    .dataframe tbody tr th:only-of-type {\n",
       "        vertical-align: middle;\n",
       "    }\n",
       "\n",
       "    .dataframe tbody tr th {\n",
       "        vertical-align: top;\n",
       "    }\n",
       "\n",
       "    .dataframe thead th {\n",
       "        text-align: right;\n",
       "    }\n",
       "</style>\n",
       "<table border=\"1\" class=\"dataframe\">\n",
       "  <thead>\n",
       "    <tr style=\"text-align: right;\">\n",
       "      <th></th>\n",
       "      <th>Body</th>\n",
       "      <th>category</th>\n",
       "    </tr>\n",
       "  </thead>\n",
       "  <tbody>\n",
       "    <tr>\n",
       "      <th>1</th>\n",
       "      <td>goibibo here’s claim offer follow u download g...</td>\n",
       "      <td>0</td>\n",
       "    </tr>\n",
       "    <tr>\n",
       "      <th>5</th>\n",
       "      <td>share thought feedback honour commitment view ...</td>\n",
       "      <td>0</td>\n",
       "    </tr>\n",
       "    <tr>\n",
       "      <th>6</th>\n",
       "      <td></td>\n",
       "      <td>0</td>\n",
       "    </tr>\n",
       "    <tr>\n",
       "      <th>7</th>\n",
       "      <td>click unsubscribe newsletter</td>\n",
       "      <td>0</td>\n",
       "    </tr>\n",
       "    <tr>\n",
       "      <th>14</th>\n",
       "      <td>cyclebar burbank  w verdugo ave aburbank ca   ...</td>\n",
       "      <td>0</td>\n",
       "    </tr>\n",
       "  </tbody>\n",
       "</table>\n",
       "</div>"
      ],
      "text/plain": [
       "                                                 Body category\n",
       "1   goibibo here’s claim offer follow u download g...        0\n",
       "5   share thought feedback honour commitment view ...        0\n",
       "6                                                            0\n",
       "7                        click unsubscribe newsletter        0\n",
       "14  cyclebar burbank  w verdugo ave aburbank ca   ...        0"
      ]
     },
     "metadata": {},
     "output_type": "display_data"
    },
    {
     "name": "stdout",
     "output_type": "stream",
     "text": [
      "\n",
      "Top 5 Positive Emails:\n"
     ]
    },
    {
     "data": {
      "text/html": [
       "<div>\n",
       "<style scoped>\n",
       "    .dataframe tbody tr th:only-of-type {\n",
       "        vertical-align: middle;\n",
       "    }\n",
       "\n",
       "    .dataframe tbody tr th {\n",
       "        vertical-align: top;\n",
       "    }\n",
       "\n",
       "    .dataframe thead th {\n",
       "        text-align: right;\n",
       "    }\n",
       "</style>\n",
       "<table border=\"1\" class=\"dataframe\">\n",
       "  <thead>\n",
       "    <tr style=\"text-align: right;\">\n",
       "      <th></th>\n",
       "      <th>Body</th>\n",
       "      <th>category</th>\n",
       "    </tr>\n",
       "  </thead>\n",
       "  <tbody>\n",
       "    <tr>\n",
       "      <th>0</th>\n",
       "      <td>plus stressfree holiday flawless gift set ͏ ͏ ...</td>\n",
       "      <td>1</td>\n",
       "    </tr>\n",
       "    <tr>\n",
       "      <th>2</th>\n",
       "      <td>save  clearance mark calendar sephora cyber we...</td>\n",
       "      <td>1</td>\n",
       "    </tr>\n",
       "    <tr>\n",
       "      <th>3</th>\n",
       "      <td>here reminder start watcng rish man inside  ua...</td>\n",
       "      <td>1</td>\n",
       "    </tr>\n",
       "    <tr>\n",
       "      <th>4</th>\n",
       "      <td>google cloud­ deploy prebuilt google cloud sol...</td>\n",
       "      <td>1</td>\n",
       "    </tr>\n",
       "    <tr>\n",
       "      <th>8</th>\n",
       "      <td>temu properly view full message content please...</td>\n",
       "      <td>1</td>\n",
       "    </tr>\n",
       "  </tbody>\n",
       "</table>\n",
       "</div>"
      ],
      "text/plain": [
       "                                                Body category\n",
       "0  plus stressfree holiday flawless gift set ͏ ͏ ...        1\n",
       "2  save  clearance mark calendar sephora cyber we...        1\n",
       "3  here reminder start watcng rish man inside  ua...        1\n",
       "4  google cloud­ deploy prebuilt google cloud sol...        1\n",
       "8  temu properly view full message content please...        1"
      ]
     },
     "metadata": {},
     "output_type": "display_data"
    },
    {
     "name": "stdout",
     "output_type": "stream",
     "text": [
      "\n",
      "Top 5 Negative Emails:\n"
     ]
    },
    {
     "data": {
      "text/html": [
       "<div>\n",
       "<style scoped>\n",
       "    .dataframe tbody tr th:only-of-type {\n",
       "        vertical-align: middle;\n",
       "    }\n",
       "\n",
       "    .dataframe tbody tr th {\n",
       "        vertical-align: top;\n",
       "    }\n",
       "\n",
       "    .dataframe thead th {\n",
       "        text-align: right;\n",
       "    }\n",
       "</style>\n",
       "<table border=\"1\" class=\"dataframe\">\n",
       "  <thead>\n",
       "    <tr style=\"text-align: right;\">\n",
       "      <th></th>\n",
       "      <th>Body</th>\n",
       "      <th>category</th>\n",
       "    </tr>\n",
       "  </thead>\n",
       "  <tbody>\n",
       "    <tr>\n",
       "      <th>18</th>\n",
       "      <td>long weekend stay indigo 🏨 view message html ...</td>\n",
       "      <td>-1</td>\n",
       "    </tr>\n",
       "    <tr>\n",
       "      <th>19</th>\n",
       "      <td>view web version unfortunately email client ca...</td>\n",
       "      <td>-1</td>\n",
       "    </tr>\n",
       "    <tr>\n",
       "      <th>40</th>\n",
       "      <td>view web version unfortunately email client ca...</td>\n",
       "      <td>-1</td>\n",
       "    </tr>\n",
       "    <tr>\n",
       "      <th>66</th>\n",
       "      <td>trouble viewing email view message browser  ca...</td>\n",
       "      <td>-1</td>\n",
       "    </tr>\n",
       "    <tr>\n",
       "      <th>75</th>\n",
       "      <td>view web version unfortunately email client ca...</td>\n",
       "      <td>-1</td>\n",
       "    </tr>\n",
       "  </tbody>\n",
       "</table>\n",
       "</div>"
      ],
      "text/plain": [
       "                                                 Body category\n",
       "18   long weekend stay indigo 🏨 view message html ...       -1\n",
       "19  view web version unfortunately email client ca...       -1\n",
       "40  view web version unfortunately email client ca...       -1\n",
       "66  trouble viewing email view message browser  ca...       -1\n",
       "75  view web version unfortunately email client ca...       -1"
      ]
     },
     "metadata": {},
     "output_type": "display_data"
    }
   ],
   "source": [
    "from IPython.display import display\n",
    "\n",
    "# Filter top 5 rows for each sentiment\n",
    "neutral_emails = sentiment_emails_df[sentiment_emails_df['category'] == '0'].head(5)\n",
    "positive_emails = sentiment_emails_df[sentiment_emails_df['category'] == '1'].head(5)\n",
    "negative_emails = sentiment_emails_df[sentiment_emails_df['category'] == '-1'].head(5)\n",
    "\n",
    "# Display as tables in Jupyter Notebook\n",
    "print(\"Top 5 Neutral Emails:\")\n",
    "display(neutral_emails)\n",
    "\n",
    "print(\"\\nTop 5 Positive Emails:\")\n",
    "display(positive_emails)\n",
    "\n",
    "print(\"\\nTop 5 Negative Emails:\")\n",
    "display(negative_emails)\n"
   ]
  },
  {
   "cell_type": "markdown",
   "id": "42970855",
   "metadata": {},
   "source": [
    "# 3.Priority Classification"
   ]
  },
  {
   "cell_type": "code",
   "execution_count": 19,
   "id": "b328b9fe",
   "metadata": {},
   "outputs": [
    {
     "name": "stdout",
     "output_type": "stream",
     "text": [
      "                             From  \\\n",
      "0               Kohls@s.kohls.com   \n",
      "1     noreply@content.goibibo.com   \n",
      "2               Kohls@s.kohls.com   \n",
      "3        info@members.netflix.com   \n",
      "4          googlecloud@google.com   \n",
      "5   mailers@marketing.goindigo.in   \n",
      "6  CaratLane@mailer.caratlane.com   \n",
      "7      noreply@miraeassetmf.co.in   \n",
      "8      email@market.temuemail.com   \n",
      "9              noreply@medium.com   \n",
      "\n",
      "                                             Subject  \\\n",
      "0  Save the date! Get up to 50% off beauty faves ...   \n",
      "1                         Bus cancelled = 2x refund!   \n",
      "2  Plot twist: Get Black Friday Deals TODAY 🤯 Plu...   \n",
      "3  🔔 Reminder: A Man on the Inside is now on Netflix   \n",
      "4  Launch and learn with interactive, prebuilt so...   \n",
      "5             We're celebrating Ethics Week with you   \n",
      "6                    📈 Trending this week: NEW RINGS   \n",
      "7        🚀 Launching: Mirae Asset Long Duration Fund   \n",
      "8                         Your Purchase, Our Thanks!   \n",
      "9  A Founder Who Just Raised a $3 Million Seed Ro...   \n",
      "\n",
      "                                                Body priority  \n",
      "0  plus stressfree holiday flawless gift set ͏ ͏ ...     High  \n",
      "1  goibibo here’s claim offer follow u download g...      Low  \n",
      "2  save 85 clearance mark calendar sephora cyber ...     High  \n",
      "3  here reminder start watching rish man inside 2...   Medium  \n",
      "4  google cloud­ deploy prebuilt google cloud sol...      Low  \n",
      "5  share thought feedback honour commitment view ...   Medium  \n",
      "6                                                  0   Medium  \n",
      "7                       click unsubscribe newsletter   Medium  \n",
      "8  temu properly view full message content please...     High  \n",
      "9  story rishitha pusapati pusapatirishitha98 ·be...     High  \n",
      "Priority-labeled dataset with selected columns saved as 'priority_labeled_emails.csv'\n"
     ]
    }
   ],
   "source": [
    "import pandas as pd\n",
    "\n",
    "# Load the cleaned dataset\n",
    "cleaned_emails_df = pd.read_csv('cleaned_emails.csv')\n",
    "\n",
    "# Ensure all entries in 'Body' are strings (handling any possible type inconsistencies)\n",
    "cleaned_emails_df['Body'] = cleaned_emails_df['Body'].astype(str)\n",
    "\n",
    "# Define a function to detect priority based on keywords in the subject and body\n",
    "def assign_priority(email_body, email_subject):\n",
    "    # High and Low priority keywords\n",
    "    high_priority_keywords = [\n",
    "        'urgent', 'asap', 'immediate', 'important', 'action required', 'deadline', 'high priority',\n",
    "        'critical', 'attention needed', 'must read', 'fast response', 'quick reply', 'alert',\n",
    "        'emergency', 'priority', 'imminent', 'necessary', 'please respond', 'respond immediately',\n",
    "        'act now', 'time-sensitive', 'response needed', 'time-critical', 'urgent action', 'quick action'             \n",
    "    ]\n",
    "    low_priority_keywords = [\n",
    "    'just checking', 'follow up', 'hope all is well', 'how are you', \n",
    "    'win', 'free', 'offer', 'discount', 'buy now', 'claim', 'prize', \n",
    "    'cash', 'money', 'gift', 'reward', 'lottery', 'clearance', 'sale', \n",
    "    'promo', 'deal', 'voucher', 'coupon', 'special offer', 'congratulations',\n",
    "    'lucky draw', 'jackpot', 'no cost', 'limited time', 'guaranteed', \n",
    "    'final call', 'click here', 'act fast', 'exclusive', 'lowest price'\n",
    "]\n",
    "    \n",
    "    # Combine subject and body for detection\n",
    "    text = (email_subject + ' ' + email_body).lower()\n",
    "    \n",
    "    # Assign priority based on keyword matches\n",
    "    if any(keyword in text for keyword in high_priority_keywords):\n",
    "        return 'High'\n",
    "    elif any(keyword in text for keyword in low_priority_keywords):\n",
    "        return 'Low'\n",
    "    else:\n",
    "        return 'Medium'\n",
    "\n",
    "# Apply the function to classify emails based on their subject and body\n",
    "cleaned_emails_df['priority'] = cleaned_emails_df.apply(lambda x: assign_priority(x['Body'], x['Subject']), axis=1)\n",
    "\n",
    "# Select only the necessary columns\n",
    "priority_labeled_emails_df = cleaned_emails_df[['From', 'Subject', 'Body', 'priority']]\n",
    "\n",
    "# Save the new dataset with priority labels as a separate file\n",
    "priority_labeled_emails_df.to_csv('priority_labeled_emails.csv', index=False)\n",
    "\n",
    "# Preview the first 10 rows of the labeled dataset\n",
    "print(priority_labeled_emails_df.head(10))\n",
    "print(\"Priority-labeled dataset with selected columns saved as 'priority_labeled_emails.csv'\")\n"
   ]
  },
  {
   "cell_type": "code",
   "execution_count": 20,
   "id": "1e82c830",
   "metadata": {},
   "outputs": [
    {
     "data": {
      "image/png": "[encoded data removed]",
      "text/plain": [
       "<Figure size 700x700 with 1 Axes>"
      ]
     },
     "metadata": {},
     "output_type": "display_data"
    }
   ],
   "source": [
    "import pandas as pd\n",
    "import matplotlib.pyplot as plt\n",
    "\n",
    "# Load the priority-labeled dataset\n",
    "priority_labeled_emails_df = pd.read_csv('priority_labeled_emails.csv')\n",
    "\n",
    "# Calculate the percentage distribution of each priority\n",
    "priority_counts = priority_labeled_emails_df['priority'].value_counts(normalize=True) * 100\n",
    "\n",
    "# Plot the pie chart\n",
    "plt.figure(figsize=(7, 7))\n",
    "plt.pie(priority_counts, labels=priority_counts.index, autopct='%1.1f%%', startangle=90, colors=['#ff9999','#66b3ff','#99ff99'])\n",
    "plt.title('Email Priority Distribution')\n",
    "plt.axis('equal')  # Equal aspect ratio ensures that pie is drawn as a circle.\n",
    "plt.show()\n"
   ]
  },
  {
   "cell_type": "code",
   "execution_count": null,
   "id": "e852c85e",
   "metadata": {},
   "outputs": [],
   "source": []
  }
 ],
 "metadata": {
  "kernelspec": {
   "display_name": "Python 3",
   "language": "python",
   "name": "python3"
  },
  "language_info": {
   "codemirror_mode": {
    "name": "ipython",
    "version": 3
   },
   "file_extension": ".py",
   "mimetype": "text/x-python",
   "name": "python",
   "nbconvert_exporter": "python",
   "pygments_lexer": "ipython3",
   "version": "3.8.5"
  }
 },
 "nbformat": 4,
 "nbformat_minor": 5
}
