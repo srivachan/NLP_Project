{
 "cells": [
  {
   "cell_type": "code",
   "execution_count": 1,
   "id": "d89c6bd6",
   "metadata": {
    "scrolled": true
   },
   "outputs": [
    {
     "data": {
      "text/html": [
       "<div>\n",
       "<style scoped>\n",
       "    .dataframe tbody tr th:only-of-type {\n",
       "        vertical-align: middle;\n",
       "    }\n",
       "\n",
       "    .dataframe tbody tr th {\n",
       "        vertical-align: top;\n",
       "    }\n",
       "\n",
       "    .dataframe thead th {\n",
       "        text-align: right;\n",
       "    }\n",
       "</style>\n",
       "<table border=\"1\" class=\"dataframe\">\n",
       "  <thead>\n",
       "    <tr style=\"text-align: right;\">\n",
       "      <th></th>\n",
       "      <th>Body</th>\n",
       "      <th>Category</th>\n",
       "    </tr>\n",
       "  </thead>\n",
       "  <tbody>\n",
       "    <tr>\n",
       "      <th>0</th>\n",
       "      <td>plus stressfree holiday flawless gift set ͏ ͏ ...</td>\n",
       "      <td>spam</td>\n",
       "    </tr>\n",
       "    <tr>\n",
       "      <th>1</th>\n",
       "      <td>goibibo here’s claim offer follow u download g...</td>\n",
       "      <td>spam</td>\n",
       "    </tr>\n",
       "    <tr>\n",
       "      <th>2</th>\n",
       "      <td>save 85 clearance mark calendar sephora cyber ...</td>\n",
       "      <td>spam</td>\n",
       "    </tr>\n",
       "    <tr>\n",
       "      <th>3</th>\n",
       "      <td>here reminder start watching rish man inside 2...</td>\n",
       "      <td>ham</td>\n",
       "    </tr>\n",
       "    <tr>\n",
       "      <th>4</th>\n",
       "      <td>google cloud­ deploy prebuilt google cloud sol...</td>\n",
       "      <td>ham</td>\n",
       "    </tr>\n",
       "    <tr>\n",
       "      <th>5</th>\n",
       "      <td>share thought feedback honour commitment view ...</td>\n",
       "      <td>ham</td>\n",
       "    </tr>\n",
       "    <tr>\n",
       "      <th>6</th>\n",
       "      <td>0</td>\n",
       "      <td>ham</td>\n",
       "    </tr>\n",
       "    <tr>\n",
       "      <th>7</th>\n",
       "      <td>click unsubscribe newsletter</td>\n",
       "      <td>ham</td>\n",
       "    </tr>\n",
       "    <tr>\n",
       "      <th>8</th>\n",
       "      <td>temu properly view full message content please...</td>\n",
       "      <td>spam</td>\n",
       "    </tr>\n",
       "    <tr>\n",
       "      <th>9</th>\n",
       "      <td>story rishitha pusapati pusapatirishitha98 ·be...</td>\n",
       "      <td>spam</td>\n",
       "    </tr>\n",
       "  </tbody>\n",
       "</table>\n",
       "</div>"
      ],
      "text/plain": [
       "                                                Body Category\n",
       "0  plus stressfree holiday flawless gift set ͏ ͏ ...     spam\n",
       "1  goibibo here’s claim offer follow u download g...     spam\n",
       "2  save 85 clearance mark calendar sephora cyber ...     spam\n",
       "3  here reminder start watching rish man inside 2...      ham\n",
       "4  google cloud­ deploy prebuilt google cloud sol...      ham\n",
       "5  share thought feedback honour commitment view ...      ham\n",
       "6                                                  0      ham\n",
       "7                       click unsubscribe newsletter      ham\n",
       "8  temu properly view full message content please...     spam\n",
       "9  story rishitha pusapati pusapatirishitha98 ·be...     spam"
      ]
     },
     "execution_count": 1,
     "metadata": {},
     "output_type": "execute_result"
    }
   ],
   "source": [
    "import pandas as pd\n",
    "\n",
    "# Load the cleaned dataset\n",
    "spam_labeled_emails_df = pd.read_csv('spam_labeled_emails.csv')\n",
    "spam_labeled_emails_df.head(10)"
   ]
  },
  {
   "cell_type": "markdown",
   "id": "c8291179",
   "metadata": {},
   "source": [
    "# Remove Repeated or Redundant Characters"
   ]
  },
  {
   "cell_type": "code",
   "execution_count": 2,
   "id": "460e724d",
   "metadata": {},
   "outputs": [],
   "source": [
    "import re\n",
    "\n",
    "# Ensure all values in the 'Body' column are strings\n",
    "spam_labeled_emails_df['Body'] = spam_labeled_emails_df['Body'].apply(lambda x: re.sub(r'Í|â€¢|[Íâ€¢ÍÂ]', '', str(x)))\n"
   ]
  },
  {
   "cell_type": "markdown",
   "id": "741c4e04",
   "metadata": {},
   "source": [
    "# Handle Encoding Issues"
   ]
  },
  {
   "cell_type": "code",
   "execution_count": 3,
   "id": "6ea48fa4",
   "metadata": {},
   "outputs": [],
   "source": [
    "import unicodedata\n",
    "\n",
    "def normalize_text(text):\n",
    "    return unicodedata.normalize('NFKD', text)\n",
    "\n",
    "spam_labeled_emails_df['Body'] = spam_labeled_emails_df['Body'].apply(normalize_text)"
   ]
  },
  {
   "cell_type": "markdown",
   "id": "e77b256e",
   "metadata": {},
   "source": [
    "# Remove URLs and Email Addresses"
   ]
  },
  {
   "cell_type": "code",
   "execution_count": 4,
   "id": "233d8cbc",
   "metadata": {},
   "outputs": [],
   "source": [
    "spam_labeled_emails_df['Body'] = spam_labeled_emails_df['Body'].str.replace(r'http\\S+|www.\\S+', '', regex=True)\n"
   ]
  },
  {
   "cell_type": "code",
   "execution_count": 5,
   "id": "d6786e6b",
   "metadata": {},
   "outputs": [],
   "source": [
    "spam_labeled_emails_df['Body'] = spam_labeled_emails_df['Body'].str.replace(r'\\b[A-Za-z0-9._%+-]+@[A-Za-z0-9.-]+\\.[A-Za-z]{2,}\\b', '', regex=True)\n"
   ]
  },
  {
   "cell_type": "markdown",
   "id": "85bbecd4",
   "metadata": {},
   "source": [
    "# Adding spam feature"
   ]
  },
  {
   "cell_type": "code",
   "execution_count": 6,
   "id": "7c5dfff9",
   "metadata": {},
   "outputs": [
    {
     "data": {
      "text/html": [
       "<div>\n",
       "<style scoped>\n",
       "    .dataframe tbody tr th:only-of-type {\n",
       "        vertical-align: middle;\n",
       "    }\n",
       "\n",
       "    .dataframe tbody tr th {\n",
       "        vertical-align: top;\n",
       "    }\n",
       "\n",
       "    .dataframe thead th {\n",
       "        text-align: right;\n",
       "    }\n",
       "</style>\n",
       "<table border=\"1\" class=\"dataframe\">\n",
       "  <thead>\n",
       "    <tr style=\"text-align: right;\">\n",
       "      <th></th>\n",
       "      <th>Body</th>\n",
       "      <th>Spam</th>\n",
       "    </tr>\n",
       "  </thead>\n",
       "  <tbody>\n",
       "    <tr>\n",
       "      <th>0</th>\n",
       "      <td>plus stressfree holiday flawless gift set ͏ ͏ ...</td>\n",
       "      <td>1</td>\n",
       "    </tr>\n",
       "    <tr>\n",
       "      <th>1</th>\n",
       "      <td>goibibo here’s claim offer follow u download g...</td>\n",
       "      <td>1</td>\n",
       "    </tr>\n",
       "    <tr>\n",
       "      <th>2</th>\n",
       "      <td>save 85 clearance mark calendar sephora cyber ...</td>\n",
       "      <td>1</td>\n",
       "    </tr>\n",
       "    <tr>\n",
       "      <th>3</th>\n",
       "      <td>here reminder start watching rish man inside 2...</td>\n",
       "      <td>0</td>\n",
       "    </tr>\n",
       "    <tr>\n",
       "      <th>4</th>\n",
       "      <td>google cloud­ deploy prebuilt google cloud sol...</td>\n",
       "      <td>0</td>\n",
       "    </tr>\n",
       "  </tbody>\n",
       "</table>\n",
       "</div>"
      ],
      "text/plain": [
       "                                                Body  Spam\n",
       "0  plus stressfree holiday flawless gift set ͏ ͏ ...     1\n",
       "1  goibibo here’s claim offer follow u download g...     1\n",
       "2  save 85 clearance mark calendar sephora cyber ...     1\n",
       "3  here reminder start watching rish man inside 2...     0\n",
       "4  google cloud­ deploy prebuilt google cloud sol...     0"
      ]
     },
     "execution_count": 6,
     "metadata": {},
     "output_type": "execute_result"
    }
   ],
   "source": [
    "# adding spam feature\n",
    "spam_labeled_emails_df['Spam'] = spam_labeled_emails_df['Category'].apply(lambda x:1 if x=='spam' else 0)\n",
    "spam_labeled_emails_df = spam_labeled_emails_df[['Body', 'Spam']]\n",
    "spam_labeled_emails_df.head()"
   ]
  },
  {
   "cell_type": "markdown",
   "id": "6db860b1",
   "metadata": {},
   "source": [
    "# Feature Extraction"
   ]
  },
  {
   "cell_type": "markdown",
   "id": "0d7c31cd",
   "metadata": {},
   "source": [
    " ### 1. Bag-of-Words (BoW): Count vectorization of word occurrences"
   ]
  },
  {
   "cell_type": "code",
   "execution_count": 7,
   "id": "711110f4",
   "metadata": {},
   "outputs": [
    {
     "name": "stderr",
     "output_type": "stream",
     "text": [
      "C:\\Users\\rajuk\\anaconda3\\lib\\site-packages\\scipy\\__init__.py:146: UserWarning: A NumPy version >=1.16.5 and <1.23.0 is required for this version of SciPy (detected version 1.24.4\n",
      "  warnings.warn(f\"A NumPy version >={np_minversion} and <{np_maxversion}\"\n"
     ]
    },
    {
     "name": "stdout",
     "output_type": "stream",
     "text": [
      "   00  000  00002359  000035coimbatorekaniyurh  000052657604  0008000401038  \\\n",
      "0   0    0         0                         0             0              0   \n",
      "1   0    0         0                         0             0              0   \n",
      "2   0    0         0                         0             0              0   \n",
      "3   0    0         0                         0             0              0   \n",
      "4   0    0         0                         0             0              0   \n",
      "\n",
      "   0008009191694  000balance  000cancellation  000policiescancellation  ...  \\\n",
      "0              0           0                0                        0  ...   \n",
      "1              0           0                0                        0  ...   \n",
      "2              0           0                0                        0  ...   \n",
      "3              1           0                0                        0  ...   \n",
      "4              0           0                0                        0  ...   \n",
      "\n",
      "   హక  로드  박서준  오피스  패스포트  中文  日本語  线下项目宣讲会  香川真司  香川真司suggested  \n",
      "0   0     0         0       0         0   0    0        0     0              0  \n",
      "1   0     0         0       0         0   0    0        0     0              0  \n",
      "2   0     0         0       0         0   0    0        0     0              0  \n",
      "3   0     0         0       0         0   0    0        0     0              0  \n",
      "4   0     0         0       0         0   0    0        0     0              0  \n",
      "\n",
      "[5 rows x 43029 columns]\n"
     ]
    }
   ],
   "source": [
    "from sklearn.feature_extraction.text import CountVectorizer\n",
    "\n",
    "# Initialize the CountVectorizer\n",
    "vectorizer = CountVectorizer()\n",
    "\n",
    "# Transform the text data into numerical features\n",
    "X_bow = vectorizer.fit_transform(spam_labeled_emails_df['Body'])\n",
    "\n",
    "# Convert to DataFrame for easier viewing\n",
    "bow_df = pd.DataFrame(X_bow.toarray(), columns=vectorizer.get_feature_names_out())\n",
    "\n",
    "# Display the BoW representation\n",
    "print(bow_df.head())\n"
   ]
  },
  {
   "cell_type": "markdown",
   "id": "0772eefe",
   "metadata": {},
   "source": [
    " ### 2. Apply TF-IDF"
   ]
  },
  {
   "cell_type": "code",
   "execution_count": 8,
   "id": "55de5ffd",
   "metadata": {},
   "outputs": [
    {
     "name": "stdout",
     "output_type": "stream",
     "text": [
      "    00  000  00002359  000035coimbatorekaniyurh  000052657604  0008000401038  \\\n",
      "0  0.0  0.0       0.0                       0.0           0.0            0.0   \n",
      "1  0.0  0.0       0.0                       0.0           0.0            0.0   \n",
      "2  0.0  0.0       0.0                       0.0           0.0            0.0   \n",
      "3  0.0  0.0       0.0                       0.0           0.0            0.0   \n",
      "4  0.0  0.0       0.0                       0.0           0.0            0.0   \n",
      "\n",
      "   0008009191694  000balance  000cancellation  000policiescancellation  ...  \\\n",
      "0       0.000000         0.0              0.0                      0.0  ...   \n",
      "1       0.000000         0.0              0.0                      0.0  ...   \n",
      "2       0.000000         0.0              0.0                      0.0  ...   \n",
      "3       0.104698         0.0              0.0                      0.0  ...   \n",
      "4       0.000000         0.0              0.0                      0.0  ...   \n",
      "\n",
      "    హక  로드  박서준  오피스  패스포트   中文  日本語  线下项目宣讲会  香川真司  \\\n",
      "0  0.0   0.0       0.0     0.0       0.0  0.0  0.0      0.0   0.0   \n",
      "1  0.0   0.0       0.0     0.0       0.0  0.0  0.0      0.0   0.0   \n",
      "2  0.0   0.0       0.0     0.0       0.0  0.0  0.0      0.0   0.0   \n",
      "3  0.0   0.0       0.0     0.0       0.0  0.0  0.0      0.0   0.0   \n",
      "4  0.0   0.0       0.0     0.0       0.0  0.0  0.0      0.0   0.0   \n",
      "\n",
      "   香川真司suggested  \n",
      "0            0.0  \n",
      "1            0.0  \n",
      "2            0.0  \n",
      "3            0.0  \n",
      "4            0.0  \n",
      "\n",
      "[5 rows x 43029 columns]\n"
     ]
    }
   ],
   "source": [
    "from sklearn.feature_extraction.text import TfidfVectorizer\n",
    "\n",
    "# Initialize the TF-IDF vectorizer\n",
    "tfidf_vectorizer = TfidfVectorizer()\n",
    "\n",
    "# Transform the text data into TF-IDF features\n",
    "X_tfidf = tfidf_vectorizer.fit_transform(spam_labeled_emails_df['Body'])\n",
    "\n",
    "# Convert to DataFrame for easier viewing\n",
    "tfidf_df = pd.DataFrame(X_tfidf.toarray(), columns=tfidf_vectorizer.get_feature_names_out())\n",
    "\n",
    "# Display the TF-IDF representation\n",
    "print(tfidf_df.head())\n"
   ]
  },
  {
   "cell_type": "markdown",
   "id": "0960b0b5",
   "metadata": {},
   "source": [
    "# Split The Data into Train and Test Sets:"
   ]
  },
  {
   "cell_type": "code",
   "execution_count": 9,
   "id": "ec5c844b",
   "metadata": {},
   "outputs": [],
   "source": [
    "from sklearn.model_selection import train_test_split\n",
    "\n",
    "# Define the features and target variable\n",
    "X = X_tfidf  # or X_bow, depending on which representation you want to use\n",
    "y = spam_labeled_emails_df['Spam']  # Assuming 'Spam' is your target variable with 0 or 1 values\n",
    "\n",
    "# Split the data into training and testing sets\n",
    "X_train, X_test, y_train, y_test = train_test_split(X, y, test_size=0.2, random_state=42)\n"
   ]
  },
  {
   "cell_type": "markdown",
   "id": "62925c6c",
   "metadata": {},
   "source": [
    "# 1.Bag-of-Words with Support Vector Machine (SVM)"
   ]
  },
  {
   "cell_type": "code",
   "execution_count": 29,
   "id": "f255a5e6",
   "metadata": {},
   "outputs": [
    {
     "name": "stdout",
     "output_type": "stream",
     "text": [
      "\n",
      "SVM + Bag-of-Words Model Evaluation:\n",
      "Accuracy: 0.9657\n",
      "\n",
      "Classification Report:\n",
      "              precision    recall  f1-score   support\n",
      "\n",
      "           0       0.98      0.98      0.98      2486\n",
      "           1       0.93      0.93      0.93       808\n",
      "\n",
      "    accuracy                           0.97      3294\n",
      "   macro avg       0.95      0.95      0.95      3294\n",
      "weighted avg       0.97      0.97      0.97      3294\n",
      "\n"
     ]
    }
   ],
   "source": [
    "from sklearn.feature_extraction.text import CountVectorizer\n",
    "from sklearn.svm import SVC\n",
    "from sklearn.pipeline import Pipeline\n",
    "from sklearn.model_selection import train_test_split\n",
    "from sklearn.metrics import accuracy_score, classification_report\n",
    "\n",
    "# Dataset split\n",
    "X = spam_labeled_emails_df['Body']\n",
    "y = spam_labeled_emails_df['Spam']\n",
    "\n",
    "X_train, X_test, y_train, y_test = train_test_split(X, y, test_size=0.2, random_state=42)\n",
    "\n",
    "# Define the pipeline\n",
    "bow_pipeline = Pipeline([\n",
    "    ('bow', CountVectorizer(max_features=10000, stop_words='english', ngram_range=(1, 2))),  # Bag-of-Words\n",
    "    ('classifier', SVC(kernel='linear', class_weight='balanced', random_state=42))  # Support Vector Machine\n",
    "])\n",
    "\n",
    "# Train the pipeline\n",
    "bow_pipeline.fit(X_train, y_train)\n",
    "\n",
    "# Predict on the test set\n",
    "y_pred_bow = bow_pipeline.predict(X_test)\n",
    "\n",
    "# Evaluate the model\n",
    "print(\"\\nSVM + Bag-of-Words Model Evaluation:\")\n",
    "print(f\"Accuracy: {accuracy_score(y_test, y_pred_bow):.4f}\")\n",
    "print(\"\\nClassification Report:\")\n",
    "print(classification_report(y_test, y_pred_bow))\n"
   ]
  },
  {
   "cell_type": "markdown",
   "id": "a5020d13",
   "metadata": {},
   "source": [
    "# 2.TF-IDF with Gradient Boosting (XGBoost)"
   ]
  },
  {
   "cell_type": "code",
   "execution_count": 31,
   "id": "9393023f",
   "metadata": {},
   "outputs": [
    {
     "name": "stdout",
     "output_type": "stream",
     "text": [
      "Collecting xgboost\n",
      "  Downloading xgboost-2.1.3-py3-none-win_amd64.whl (124.9 MB)\n",
      "Requirement already satisfied: numpy in c:\\users\\rajuk\\anaconda3\\lib\\site-packages (from xgboost) (1.24.4)\n",
      "Requirement already satisfied: scipy in c:\\users\\rajuk\\anaconda3\\lib\\site-packages (from xgboost) (1.7.3)\n",
      "Collecting numpy\n",
      "  Downloading numpy-1.22.4-cp38-cp38-win_amd64.whl (14.8 MB)\n",
      "Installing collected packages: numpy, xgboost\n",
      "  Attempting uninstall: numpy\n",
      "    Found existing installation: numpy 1.24.4\n",
      "    Uninstalling numpy-1.24.4:\n",
      "      Successfully uninstalled numpy-1.24.4\n",
      "Successfully installed numpy-1.22.4 xgboost-2.1.3\n"
     ]
    }
   ],
   "source": [
    "!pip install xgboost\n"
   ]
  },
  {
   "cell_type": "code",
   "execution_count": 32,
   "id": "9276765f",
   "metadata": {},
   "outputs": [
    {
     "name": "stderr",
     "output_type": "stream",
     "text": [
      "C:\\Users\\rajuk\\anaconda3\\lib\\site-packages\\xgboost\\core.py:158: UserWarning: [14:09:38] WARNING: C:\\buildkite-agent\\builds\\buildkite-windows-cpu-autoscaling-group-i-0c55ff5f71b100e98-1\\xgboost\\xgboost-ci-windows\\src\\learner.cc:740: \n",
      "Parameters: { \"use_label_encoder\" } are not used.\n",
      "\n",
      "  warnings.warn(smsg, UserWarning)\n"
     ]
    },
    {
     "name": "stdout",
     "output_type": "stream",
     "text": [
      "\n",
      "XGBoost + TF-IDF Model Evaluation:\n",
      "Accuracy: 0.9827\n",
      "\n",
      "Classification Report:\n",
      "              precision    recall  f1-score   support\n",
      "\n",
      "           0       0.98      0.99      0.99      2486\n",
      "           1       0.98      0.95      0.96       808\n",
      "\n",
      "    accuracy                           0.98      3294\n",
      "   macro avg       0.98      0.97      0.98      3294\n",
      "weighted avg       0.98      0.98      0.98      3294\n",
      "\n"
     ]
    }
   ],
   "source": [
    "from sklearn.feature_extraction.text import TfidfVectorizer\n",
    "from xgboost import XGBClassifier\n",
    "from sklearn.pipeline import Pipeline\n",
    "from sklearn.model_selection import train_test_split\n",
    "from sklearn.metrics import accuracy_score, classification_report\n",
    "\n",
    "# Dataset split\n",
    "X = spam_labeled_emails_df['Body']\n",
    "y = spam_labeled_emails_df['Spam']\n",
    "\n",
    "X_train, X_test, y_train, y_test = train_test_split(X, y, test_size=0.2, random_state=42)\n",
    "\n",
    "# Define the pipeline\n",
    "tfidf_pipeline = Pipeline([\n",
    "    ('tfidf', TfidfVectorizer(max_features=10000, stop_words='english', ngram_range=(1, 2))),  # TF-IDF Vectorization\n",
    "    ('classifier', XGBClassifier(use_label_encoder=False, eval_metric='logloss', random_state=42))  # XGBoost\n",
    "])\n",
    "\n",
    "# Train the pipeline\n",
    "tfidf_pipeline.fit(X_train, y_train)\n",
    "\n",
    "# Predict on the test set\n",
    "y_pred_tfidf = tfidf_pipeline.predict(X_test)\n",
    "\n",
    "# Evaluate the model\n",
    "print(\"\\nXGBoost + TF-IDF Model Evaluation:\")\n",
    "print(f\"Accuracy: {accuracy_score(y_test, y_pred_tfidf):.4f}\")\n",
    "print(\"\\nClassification Report:\")\n",
    "print(classification_report(y_test, y_pred_tfidf))\n"
   ]
  },
  {
   "cell_type": "markdown",
   "id": "6ec785b8",
   "metadata": {},
   "source": [
    "# 3.Bag-of-Words with Naive Bayes"
   ]
  },
  {
   "cell_type": "code",
   "execution_count": 33,
   "id": "392af9a5",
   "metadata": {},
   "outputs": [
    {
     "name": "stdout",
     "output_type": "stream",
     "text": [
      "\n",
      "Naive Bayes + Bag-of-Words Model Evaluation:\n",
      "Accuracy: 0.9126\n",
      "\n",
      "Classification Report:\n",
      "              precision    recall  f1-score   support\n",
      "\n",
      "           0       0.93      0.95      0.94      2486\n",
      "           1       0.84      0.79      0.82       808\n",
      "\n",
      "    accuracy                           0.91      3294\n",
      "   macro avg       0.89      0.87      0.88      3294\n",
      "weighted avg       0.91      0.91      0.91      3294\n",
      "\n"
     ]
    }
   ],
   "source": [
    "from sklearn.feature_extraction.text import CountVectorizer\n",
    "from sklearn.naive_bayes import MultinomialNB\n",
    "from sklearn.pipeline import Pipeline\n",
    "from sklearn.model_selection import train_test_split\n",
    "from sklearn.metrics import accuracy_score, classification_report\n",
    "\n",
    "# Dataset split\n",
    "X = spam_labeled_emails_df['Body']\n",
    "y = spam_labeled_emails_df['Spam']\n",
    "\n",
    "X_train, X_test, y_train, y_test = train_test_split(X, y, test_size=0.2, random_state=42)\n",
    "\n",
    "# Define the pipeline\n",
    "bow_pipeline = Pipeline([\n",
    "    ('bow', CountVectorizer(max_features=10000, stop_words='english', ngram_range=(1, 2))),  # Bag-of-Words\n",
    "    ('classifier', MultinomialNB())  # Naive Bayes\n",
    "])\n",
    "\n",
    "# Train the pipeline\n",
    "bow_pipeline.fit(X_train, y_train)\n",
    "\n",
    "# Predict on the test set\n",
    "y_pred_bow = bow_pipeline.predict(X_test)\n",
    "\n",
    "# Evaluate the model\n",
    "print(\"\\nNaive Bayes + Bag-of-Words Model Evaluation:\")\n",
    "print(f\"Accuracy: {accuracy_score(y_test, y_pred_bow):.4f}\")\n",
    "print(\"\\nClassification Report:\")\n",
    "print(classification_report(y_test, y_pred_bow))\n"
   ]
  },
  {
   "cell_type": "markdown",
   "id": "95349206",
   "metadata": {},
   "source": [
    "# 4.Word Embeddings with Logistic Regression"
   ]
  },
  {
   "cell_type": "code",
   "execution_count": 35,
   "id": "64af1d41",
   "metadata": {},
   "outputs": [
    {
     "name": "stdout",
     "output_type": "stream",
     "text": [
      "Collecting gensim\n",
      "  Downloading gensim-4.3.3-cp38-cp38-win_amd64.whl (24.0 MB)\n",
      "Requirement already satisfied: numpy<2.0,>=1.18.5 in c:\\users\\rajuk\\anaconda3\\lib\\site-packages (from gensim) (1.22.4)\n",
      "Requirement already satisfied: smart-open>=1.8.1 in c:\\users\\rajuk\\anaconda3\\lib\\site-packages (from gensim) (7.0.5)\n",
      "Requirement already satisfied: scipy<1.14.0,>=1.7.0 in c:\\users\\rajuk\\anaconda3\\lib\\site-packages (from gensim) (1.7.3)\n",
      "Requirement already satisfied: wrapt in c:\\users\\rajuk\\anaconda3\\lib\\site-packages (from smart-open>=1.8.1->gensim) (1.16.0)\n",
      "Installing collected packages: gensim\n",
      "Successfully installed gensim-4.3.3\n"
     ]
    }
   ],
   "source": [
    "!pip install gensim\n"
   ]
  },
  {
   "cell_type": "code",
   "execution_count": 36,
   "id": "6f4c3676",
   "metadata": {},
   "outputs": [
    {
     "name": "stdout",
     "output_type": "stream",
     "text": [
      "\n",
      "Logistic Regression + Word2Vec Model Evaluation:\n",
      "Accuracy: 0.9065\n",
      "\n",
      "Classification Report:\n",
      "              precision    recall  f1-score   support\n",
      "\n",
      "           0       0.96      0.91      0.94      2486\n",
      "           1       0.77      0.89      0.82       808\n",
      "\n",
      "    accuracy                           0.91      3294\n",
      "   macro avg       0.86      0.90      0.88      3294\n",
      "weighted avg       0.91      0.91      0.91      3294\n",
      "\n"
     ]
    },
    {
     "name": "stderr",
     "output_type": "stream",
     "text": [
      "C:\\Users\\rajuk\\anaconda3\\lib\\site-packages\\sklearn\\linear_model\\_logistic.py:814: ConvergenceWarning: lbfgs failed to converge (status=1):\n",
      "STOP: TOTAL NO. of ITERATIONS REACHED LIMIT.\n",
      "\n",
      "Increase the number of iterations (max_iter) or scale the data as shown in:\n",
      "    https://scikit-learn.org/stable/modules/preprocessing.html\n",
      "Please also refer to the documentation for alternative solver options:\n",
      "    https://scikit-learn.org/stable/modules/linear_model.html#logistic-regression\n",
      "  n_iter_i = _check_optimize_result(\n"
     ]
    }
   ],
   "source": [
    "from sklearn.linear_model import LogisticRegression\n",
    "from sklearn.pipeline import Pipeline\n",
    "from sklearn.model_selection import train_test_split\n",
    "from sklearn.metrics import accuracy_score, classification_report\n",
    "from gensim.models import Word2Vec\n",
    "import numpy as np\n",
    "\n",
    "# Dataset split\n",
    "X = spam_labeled_emails_df['Body']\n",
    "y = spam_labeled_emails_df['Spam']\n",
    "\n",
    "X_train, X_test, y_train, y_test = train_test_split(X, y, test_size=0.2, random_state=42)\n",
    "\n",
    "# Train Word2Vec model\n",
    "sentences = [text.split() for text in X_train]\n",
    "word2vec_model = Word2Vec(sentences, vector_size=300, min_count=2, workers=4)\n",
    "\n",
    "# Helper function to convert text to embeddings\n",
    "def get_sentence_embedding(sentence):\n",
    "    words = sentence.split()\n",
    "    vectors = [word2vec_model.wv[word] for word in words if word in word2vec_model.wv]\n",
    "    return np.mean(vectors, axis=0) if vectors else np.zeros(300)\n",
    "\n",
    "X_train_emb = np.array([get_sentence_embedding(text) for text in X_train])\n",
    "X_test_emb = np.array([get_sentence_embedding(text) for text in X_test])\n",
    "\n",
    "# Train the classifier\n",
    "classifier = LogisticRegression(class_weight='balanced', random_state=42)\n",
    "classifier.fit(X_train_emb, y_train)\n",
    "\n",
    "# Predict on the test set\n",
    "y_pred = classifier.predict(X_test_emb)\n",
    "\n",
    "# Evaluate the model\n",
    "print(\"\\nLogistic Regression + Word2Vec Model Evaluation:\")\n",
    "print(f\"Accuracy: {accuracy_score(y_test, y_pred):.4f}\")\n",
    "print(\"\\nClassification Report:\")\n",
    "print(classification_report(y_test, y_pred))\n"
   ]
  },
  {
   "cell_type": "markdown",
   "id": "0bd9d516",
   "metadata": {},
   "source": [
    "# Training a Classifier Using RandomForestClassifier with a Pipeline:"
   ]
  },
  {
   "cell_type": "markdown",
   "id": "f9337ae1",
   "metadata": {},
   "source": [
    "## **1.RandomForestClassifier + Bag-of-Words Implementation:** ##"
   ]
  },
  {
   "cell_type": "code",
   "execution_count": 25,
   "id": "46fd0878",
   "metadata": {},
   "outputs": [
    {
     "name": "stdout",
     "output_type": "stream",
     "text": [
      "\n",
      "Random Forest + Bag-of-Words Model Evaluation:\n",
      "Accuracy: 0.9715\n",
      "\n",
      "Classification Report:\n",
      "              precision    recall  f1-score   support\n",
      "\n",
      "           0       0.97      1.00      0.98      2486\n",
      "           1       0.99      0.89      0.94       808\n",
      "\n",
      "    accuracy                           0.97      3294\n",
      "   macro avg       0.98      0.95      0.96      3294\n",
      "weighted avg       0.97      0.97      0.97      3294\n",
      "\n"
     ]
    }
   ],
   "source": [
    "from sklearn.feature_extraction.text import CountVectorizer\n",
    "from sklearn.linear_model import LogisticRegression\n",
    "from sklearn.pipeline import Pipeline\n",
    "from sklearn.model_selection import train_test_split\n",
    "from sklearn.metrics import accuracy_score, classification_report\n",
    "\n",
    "# Dataset split\n",
    "X = spam_labeled_emails_df['Body']\n",
    "y = spam_labeled_emails_df['Spam']\n",
    "\n",
    "X_train, X_test, y_train, y_test = train_test_split(X, y, test_size=0.2, random_state=42)\n",
    "\n",
    "# Define the pipeline\n",
    "bow_pipeline = Pipeline([\n",
    "    ('bow', CountVectorizer(max_features=10000, stop_words='english', ngram_range=(1, 2))),  # Bag-of-Words Vectorization\n",
    "    ('classifier', RandomForestClassifier(n_estimators=100, random_state=42, class_weight='balanced'))\n",
    "  # Random Forest\n",
    "])\n",
    "\n",
    "# Train the pipeline\n",
    "bow_pipeline.fit(X_train, y_train)\n",
    "\n",
    "# Predict on the test set\n",
    "y_pred_bow = bow_pipeline.predict(X_test)\n",
    "\n",
    "# Evaluate the model\n",
    "print(\"\\nRandom Forest + Bag-of-Words Model Evaluation:\")\n",
    "print(f\"Accuracy: {accuracy_score(y_test, y_pred_bow):.4f}\")\n",
    "print(\"\\nClassification Report:\")\n",
    "print(classification_report(y_test, y_pred_bow))\n"
   ]
  },
  {
   "cell_type": "markdown",
   "id": "6823a006",
   "metadata": {},
   "source": [
    "## **2.RandomForestClassifier +  TF-IDF Implementation:** ##"
   ]
  },
  {
   "cell_type": "code",
   "execution_count": 45,
   "id": "8e9adea6",
   "metadata": {},
   "outputs": [
    {
     "name": "stdout",
     "output_type": "stream",
     "text": [
      "\n",
      "Random Forest  + TF-IDF  Model Evaluation:\n",
      "Accuracy: 0.9699\n",
      "\n",
      "Classification Report:\n",
      "              precision    recall  f1-score   support\n",
      "\n",
      "           0       0.96      1.00      0.98      2486\n",
      "           1       0.99      0.89      0.94       808\n",
      "\n",
      "    accuracy                           0.97      3294\n",
      "   macro avg       0.98      0.94      0.96      3294\n",
      "weighted avg       0.97      0.97      0.97      3294\n",
      "\n"
     ]
    }
   ],
   "source": [
    "from sklearn.pipeline import Pipeline\n",
    "from sklearn.feature_extraction.text import TfidfVectorizer\n",
    "from sklearn.linear_model import LogisticRegression\n",
    "from sklearn.ensemble import RandomForestClassifier\n",
    "from sklearn.metrics import accuracy_score, classification_report\n",
    "from sklearn.model_selection import train_test_split\n",
    "\n",
    "# Split the dataset into training and testing sets\n",
    "X = spam_labeled_emails_df['Body']\n",
    "y = spam_labeled_emails_df['Spam']\n",
    "\n",
    "X_train, X_test, y_train, y_test = train_test_split(X, y, test_size=0.2, random_state=42)\n",
    "\n",
    "# Define the pipeline\n",
    "pipeline = Pipeline([\n",
    "    ('tfidf', TfidfVectorizer(max_features=5000, stop_words='english')),  # TF-IDF Vectorization\n",
    "     ('classifier', RandomForestClassifier(n_estimators=100, random_state=42)) # Random Forest with balanced class weights\n",
    "])\n",
    "\n",
    "# Train the pipeline\n",
    "pipeline.fit(X_train, y_train)\n",
    "\n",
    "# Predict on the test set\n",
    "y_pred = pipeline.predict(X_test)\n",
    "\n",
    "# Evaluate the model\n",
    "print(\"\\nRandom Forest  + TF-IDF  Model Evaluation:\")\n",
    "print(f\"Accuracy: {accuracy_score(y_test, y_pred):.4f}\")\n",
    "print(\"\\nClassification Report:\")\n",
    "print(classification_report(y_test, y_pred))"
   ]
  },
  {
   "cell_type": "markdown",
   "id": "7a923d5a",
   "metadata": {},
   "source": [
    "# Training a Classifier Using Logistic Regression with a Pipeline:"
   ]
  },
  {
   "cell_type": "markdown",
   "id": "d78e658a",
   "metadata": {},
   "source": [
    "## **3.Logistic Regression + Bag-of-Words Implementation:** ##"
   ]
  },
  {
   "cell_type": "code",
   "execution_count": 46,
   "id": "2eb5ed5f",
   "metadata": {},
   "outputs": [
    {
     "name": "stdout",
     "output_type": "stream",
     "text": [
      "\n",
      "Logistic Regression + Bag-of-Words Model Evaluation:\n",
      "Accuracy: 0.9702\n",
      "\n",
      "Classification Report:\n",
      "              precision    recall  f1-score   support\n",
      "\n",
      "           0       0.98      0.98      0.98      2486\n",
      "           1       0.95      0.93      0.94       808\n",
      "\n",
      "    accuracy                           0.97      3294\n",
      "   macro avg       0.96      0.96      0.96      3294\n",
      "weighted avg       0.97      0.97      0.97      3294\n",
      "\n"
     ]
    }
   ],
   "source": [
    "from sklearn.feature_extraction.text import CountVectorizer\n",
    "from sklearn.linear_model import LogisticRegression\n",
    "from sklearn.pipeline import Pipeline\n",
    "from sklearn.model_selection import train_test_split\n",
    "from sklearn.metrics import accuracy_score, classification_report\n",
    "\n",
    "# Dataset split\n",
    "X = spam_labeled_emails_df['Body']\n",
    "y = spam_labeled_emails_df['Spam']\n",
    "\n",
    "X_train, X_test, y_train, y_test = train_test_split(X, y, test_size=0.2, random_state=42)\n",
    "\n",
    "# Define the pipeline\n",
    "bow_pipeline = Pipeline([\n",
    "    ('bow', CountVectorizer(max_features=5000, stop_words='english')),  # Bag-of-Words Vectorization\n",
    "    ('classifier', LogisticRegression(max_iter=1000, class_weight='balanced', random_state=42))  # Logistic Regression\n",
    "])\n",
    "\n",
    "# Train the pipeline\n",
    "bow_pipeline.fit(X_train, y_train)\n",
    "\n",
    "# Predict on the test set\n",
    "y_pred_bow = bow_pipeline.predict(X_test)\n",
    "\n",
    "# Evaluate the model\n",
    "print(\"\\nLogistic Regression + Bag-of-Words Model Evaluation:\")\n",
    "print(f\"Accuracy: {accuracy_score(y_test, y_pred_bow):.4f}\")\n",
    "print(\"\\nClassification Report:\")\n",
    "print(classification_report(y_test, y_pred_bow))\n"
   ]
  },
  {
   "cell_type": "markdown",
   "id": "7a84258f",
   "metadata": {},
   "source": [
    "## **4.Logistic Regression + TF-IDF Implementation:** ##"
   ]
  },
  {
   "cell_type": "code",
   "execution_count": 47,
   "id": "04a750f3",
   "metadata": {},
   "outputs": [
    {
     "name": "stdout",
     "output_type": "stream",
     "text": [
      "\n",
      "Logistic Regression + TF-IDF Model Evaluation:\n",
      "Accuracy: 0.9569\n",
      "\n",
      "Classification Report:\n",
      "              precision    recall  f1-score   support\n",
      "\n",
      "           0       0.97      0.97      0.97      2486\n",
      "           1       0.91      0.91      0.91       808\n",
      "\n",
      "    accuracy                           0.96      3294\n",
      "   macro avg       0.94      0.94      0.94      3294\n",
      "weighted avg       0.96      0.96      0.96      3294\n",
      "\n"
     ]
    }
   ],
   "source": [
    "from sklearn.pipeline import Pipeline\n",
    "from sklearn.feature_extraction.text import TfidfVectorizer\n",
    "from sklearn.linear_model import LogisticRegression\n",
    "from sklearn.ensemble import RandomForestClassifier\n",
    "from sklearn.metrics import accuracy_score, classification_report\n",
    "from sklearn.model_selection import train_test_split\n",
    "\n",
    "# Split the dataset into training and testing sets\n",
    "X = spam_labeled_emails_df['Body']\n",
    "y = spam_labeled_emails_df['Spam']\n",
    "\n",
    "X_train, X_test, y_train, y_test = train_test_split(X, y, test_size=0.2, random_state=42)\n",
    "\n",
    "# Define the pipeline\n",
    "pipeline = Pipeline([\n",
    "    ('tfidf', TfidfVectorizer(max_features=5000, stop_words='english')),  # TF-IDF Vectorization\n",
    "    ('classifier', LogisticRegression(max_iter=1000, class_weight='balanced', random_state=42))  # Logistic Regression with balanced class weights\n",
    "])\n",
    "\n",
    "# Train the pipeline\n",
    "pipeline.fit(X_train, y_train)\n",
    "\n",
    "# Predict on the test set\n",
    "y_pred = pipeline.predict(X_test)\n",
    "\n",
    "# Evaluate the model\n",
    "print(\"\\nLogistic Regression + TF-IDF Model Evaluation:\")\n",
    "print(f\"Accuracy: {accuracy_score(y_test, y_pred):.4f}\")\n",
    "print(\"\\nClassification Report:\")\n",
    "print(classification_report(y_test, y_pred))"
   ]
  },
  {
   "cell_type": "markdown",
   "id": "8f00449b",
   "metadata": {},
   "source": [
    "# Confusion Matrix"
   ]
  },
  {
   "cell_type": "code",
   "execution_count": 48,
   "id": "a42fb811",
   "metadata": {},
   "outputs": [
    {
     "data": {
      "image/png": "[encoded data removed]",
      "text/plain": [
       "<Figure size 800x600 with 2 Axes>"
      ]
     },
     "metadata": {},
     "output_type": "display_data"
    }
   ],
   "source": [
    "from sklearn.metrics import confusion_matrix\n",
    "import seaborn as sns\n",
    "import matplotlib.pyplot as plt\n",
    "\n",
    "# Convert y_pred to string labels ('Ham' and 'Spam')\n",
    "y_pred_labels = ['Ham' if label == 0 else 'Spam' for label in y_pred]\n",
    "\n",
    "# Convert y_test to string labels ('Ham' and 'Spam')\n",
    "y_test_labels = ['Ham' if label == 0 else 'Spam' for label in y_test]\n",
    "\n",
    "# Generate the confusion matrix\n",
    "cm = confusion_matrix(y_test_labels, y_pred_labels)\n",
    "\n",
    "# Plot the confusion matrix using a heatmap\n",
    "plt.figure(figsize=(8, 6))\n",
    "sns.heatmap(cm, annot=True, fmt='d', cmap='Blues', xticklabels=['Ham', 'Spam'], yticklabels=['Ham', 'Spam'])\n",
    "plt.title(\"Confusion Matrix\")\n",
    "plt.xlabel('Predicted')\n",
    "plt.ylabel('Actual')\n",
    "plt.show()\n"
   ]
  },
  {
   "cell_type": "markdown",
   "id": "acf81afa",
   "metadata": {},
   "source": [
    "# Testing Model with Examples"
   ]
  },
  {
   "cell_type": "code",
   "execution_count": 51,
   "id": "22d02fc6",
   "metadata": {},
   "outputs": [
    {
     "name": "stdout",
     "output_type": "stream",
     "text": [
      "Email: Hello, I hope you are doing well. Let's catch up soon!\n",
      "Predicted label: Ham\n",
      "\n",
      "Email: Limited time offer! Get your free gift card now!\n",
      "Predicted label: Spam\n",
      "\n",
      "Email: Are you available for a quick meeting tomorrow? Let me know!\n",
      "Predicted label: Ham\n",
      "\n",
      "Email: Congratulations! You've been selected for a special prize!\n",
      "Predicted label: Spam\n",
      "\n",
      "Email: Congratulations! You've won a free vacation to Hawaii. Click the link to claim it now.\n",
      "Predicted label: Spam\n",
      "\n",
      "Email: Hi John, can we reschedule our meeting for next week?\n",
      "Predicted label: Ham\n",
      "\n",
      "Email: Win a brand-new iPhone by signing up here. Limited time offer!\n",
      "Predicted label: Spam\n",
      "\n",
      "Email: Reminder: Your subscription is about to expire. Renew it to continue using our service.\n",
      "Predicted label: Ham\n",
      "\n",
      "Email: The package you ordered will be delivered by tomorrow.\n",
      "Predicted label: Ham\n",
      "\n"
     ]
    }
   ],
   "source": [
    "from sklearn.feature_extraction.text import TfidfVectorizer\n",
    "from sklearn.linear_model import LogisticRegression\n",
    "\n",
    "# Example training data (replace with your actual training data)\n",
    "train_emails = [\"Hello, this is a normal email.\", \"Congratulations! You've won a prize!\", \"Let's schedule a meeting tomorrow.\", \"Special offer just for you!\"]\n",
    "train_labels = [0, 1, 0, 1]  # 0 = Ham, 1 = Spam\n",
    "\n",
    "# Initialize and fit the TF-IDF Vectorizer on the training data\n",
    "vectorizer = TfidfVectorizer()\n",
    "X_train_tfidf = vectorizer.fit_transform(train_emails)\n",
    "\n",
    "# Train the model\n",
    "classifier = LogisticRegression()\n",
    "classifier.fit(X_train_tfidf, train_labels)\n",
    "\n",
    "# New emails to classify\n",
    "new_emails = [\n",
    "    \"Hello, I hope you are doing well. Let's catch up soon!\",\n",
    "    \"Limited time offer! Get your free gift card now!\",\n",
    "    \"Are you available for a quick meeting tomorrow? Let me know!\",\n",
    "    \"Congratulations! You've been selected for a special prize!\",\n",
    "    \"Congratulations! You've won a free vacation to Hawaii. Click the link to claim it now.\",  # Likely Spam\n",
    "    \"Hi John, can we reschedule our meeting for next week?\",  # Not Spam\n",
    "    \"Win a brand-new iPhone by signing up here. Limited time offer!\",  # Likely Spam\n",
    "    \"Reminder: Your subscription is about to expire. Renew it to continue using our service.\",  # Possible Spam\n",
    "    \"The package you ordered will be delivered by tomorrow.\"  # Not Spam\n",
    "\n",
    "]\n",
    "\n",
    "# Transform the new emails using the fitted vectorizer\n",
    "new_emails_transformed = vectorizer.transform(new_emails)\n",
    "\n",
    "# Predict with the trained classifier\n",
    "predictions = classifier.predict(new_emails_transformed)\n",
    "\n",
    "# Convert numerical predictions to readable labels\n",
    "predicted_labels = ['Spam' if label == 1 else 'Ham' for label in predictions]\n",
    "\n",
    "# Display the results\n",
    "for email, label in zip(new_emails, predicted_labels):\n",
    "    print(f\"Email: {email}\\nPredicted label: {label}\\n\")\n"
   ]
  },
  {
   "cell_type": "code",
   "execution_count": 53,
   "id": "7dd5a7f1",
   "metadata": {},
   "outputs": [
    {
     "name": "stdout",
     "output_type": "stream",
     "text": [
      "Email: Hello, I hope you are doing well. Let's catch up soon!\n",
      "Predicted label: Ham\n",
      "\n",
      "Email: Limited time offer! Get your free gift card now!\n",
      "Predicted label: Ham\n",
      "\n",
      "Email: Are you available for a quick meeting tomorrow? Let me know!\n",
      "Predicted label: Ham\n",
      "\n",
      "Email: Congratulations! You've been selected for a special prize!\n",
      "Predicted label: Ham\n",
      "\n",
      "Email: Congratulations! You've won a free vacation to Hawaii. Click the link to claim it now.\n",
      "Predicted label: Ham\n",
      "\n",
      "Email: Hi John, can we reschedule our meeting for next week?\n",
      "Predicted label: Ham\n",
      "\n",
      "Email: Win a brand-new iPhone by signing up here. Limited time offer!\n",
      "Predicted label: Ham\n",
      "\n",
      "Email: Reminder: Your subscription is about to expire. Renew it to continue using our service.\n",
      "Predicted label: Ham\n",
      "\n",
      "Email: The package you ordered will be delivered by tomorrow.\n",
      "Predicted label: Ham\n",
      "\n"
     ]
    },
    {
     "name": "stderr",
     "output_type": "stream",
     "text": [
      "C:\\Users\\rajuk\\anaconda3\\lib\\site-packages\\xgboost\\core.py:158: UserWarning: [16:14:13] WARNING: C:\\buildkite-agent\\builds\\buildkite-windows-cpu-autoscaling-group-i-0c55ff5f71b100e98-1\\xgboost\\xgboost-ci-windows\\src\\learner.cc:740: \n",
      "Parameters: { \"use_label_encoder\" } are not used.\n",
      "\n",
      "  warnings.warn(smsg, UserWarning)\n"
     ]
    }
   ],
   "source": [
    "from sklearn.feature_extraction.text import TfidfVectorizer\n",
    "from xgboost import XGBClassifier\n",
    "\n",
    "# Example training data (replace with your actual training data)\n",
    "train_emails = [\n",
    "    \"Hello, this is a normal email.\",\n",
    "    \"Congratulations! You've won a prize!\",\n",
    "    \"Let's schedule a meeting tomorrow.\",\n",
    "    \"Special offer just for you!\"\n",
    "]\n",
    "train_labels = [0, 1, 0, 1]  # 0 = Ham, 1 = Spam\n",
    "\n",
    "# Initialize and fit the TF-IDF Vectorizer on the training data\n",
    "vectorizer = TfidfVectorizer()\n",
    "X_train_tfidf = vectorizer.fit_transform(train_emails)\n",
    "\n",
    "# Train the XGBoost classifier\n",
    "classifier = XGBClassifier(use_label_encoder=False, eval_metric='logloss')\n",
    "classifier.fit(X_train_tfidf, train_labels)\n",
    "\n",
    "# New emails to classify\n",
    "new_emails = [\n",
    "    \"Hello, I hope you are doing well. Let's catch up soon!\",\n",
    "    \"Limited time offer! Get your free gift card now!\",\n",
    "    \"Are you available for a quick meeting tomorrow? Let me know!\",\n",
    "    \"Congratulations! You've been selected for a special prize!\",\n",
    "    \"Congratulations! You've won a free vacation to Hawaii. Click the link to claim it now.\",  # Likely Spam\n",
    "    \"Hi John, can we reschedule our meeting for next week?\",  # Not Spam\n",
    "    \"Win a brand-new iPhone by signing up here. Limited time offer!\",  # Likely Spam\n",
    "    \"Reminder: Your subscription is about to expire. Renew it to continue using our service.\",  # Possible Spam\n",
    "    \"The package you ordered will be delivered by tomorrow.\"  # Not Spam\n",
    "]\n",
    "\n",
    "# Transform the new emails using the fitted vectorizer\n",
    "new_emails_transformed = vectorizer.transform(new_emails)\n",
    "\n",
    "# Predict with the trained classifier\n",
    "predictions = classifier.predict(new_emails_transformed)\n",
    "\n",
    "# Convert numerical predictions to readable labels\n",
    "predicted_labels = ['Spam' if label == 1 else 'Ham' for label in predictions]\n",
    "\n",
    "# Display the results\n",
    "for email, label in zip(new_emails, predicted_labels):\n",
    "    print(f\"Email: {email}\\nPredicted label: {label}\\n\")\n"
   ]
  }
 ],
 "metadata": {
  "kernelspec": {
   "display_name": "Python 3",
   "language": "python",
   "name": "python3"
  },
  "language_info": {
   "codemirror_mode": {
    "name": "ipython",
    "version": 3
   },
   "file_extension": ".py",
   "mimetype": "text/x-python",
   "name": "python",
   "nbconvert_exporter": "python",
   "pygments_lexer": "ipython3",
   "version": "3.8.5"
  }
 },
 "nbformat": 4,
 "nbformat_minor": 5
}
